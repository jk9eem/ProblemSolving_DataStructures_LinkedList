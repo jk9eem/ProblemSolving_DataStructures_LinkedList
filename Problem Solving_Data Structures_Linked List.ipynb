{
  "cells": [
    {
      "cell_type": "markdown",
      "metadata": {
        "id": "view-in-github",
        "colab_type": "text"
      },
      "source": [
        "<a href=\"https://colab.research.google.com/github/jk9eem/ProblemSolving_DataStructures_LinkedList/blob/main/Problem%20Solving_Data%20Structures_Linked%20List.ipynb\" target=\"_parent\"><img src=\"https://colab.research.google.com/assets/colab-badge.svg\" alt=\"Open In Colab\"/></a>"
      ]
    },
    {
      "cell_type": "markdown",
      "source": [
        "107.Print the Element of a Linked List"
      ],
      "metadata": {
        "id": "sBas8SJ-hPVD"
      }
    },
    {
      "cell_type": "code",
      "source": [
        "def printLinkedList(head):\n",
        "    # Create the temporary pointer\n",
        "    temp = head\n",
        "    \n",
        "    # Print all the elements in the liked list\n",
        "    # We have the print the elements until the 'NULL' pointer -> In python, we'll be using 'None'\n",
        "    while temp != None:\n",
        "        # In the linked list, there are data and next -> It mentioned above!!\n",
        "        print(temp.data)\n",
        "        \n",
        "        # After printing the element, move to the next pointer\n",
        "        temp = temp.next"
      ],
      "metadata": {
        "id": "jTzBGe-Dhcov"
      },
      "execution_count": null,
      "outputs": []
    }
  ],
  "metadata": {
    "colab": {
      "collapsed_sections": [],
      "name": "Welcome To Colaboratory",
      "toc_visible": true,
      "provenance": [],
      "include_colab_link": true
    },
    "kernelspec": {
      "display_name": "Python 3",
      "name": "python3"
    }
  },
  "nbformat": 4,
  "nbformat_minor": 0
}